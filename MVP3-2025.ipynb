{
 "cells": [
  {
   "cell_type": "markdown",
   "metadata": {
    "id": "eZ6V5VLe1GDS"
   },
   "source": [
    "# Title: MVP 3\n",
    "\n",
    "Name | Email\n"
   ]
  },
  {
   "cell_type": "markdown",
   "metadata": {
    "id": "jFQsyQxF1GDU"
   },
   "source": [
    "## 1. Design Framework\n",
    "\n",
    "### 1.1. Problem Statement\n",
    "Write a 2-3 sentence description of the problem you are solving here.\n",
    "\n",
    "### 1.2. Solution\n",
    "Write a 2-3 sentence description of the robust solution that would solve the problem. Note, this is not the MVP solution. This is the complete, full-featured solution you would create if you had unlimited time and resources.\n",
    "\n",
    "### 1.3. Challenge\n",
    "Write a 1-2 sentence description of the top-most challenge to create your MVP. Biggest challenge for you when implementing your MVP right here."
   ]
  },
  {
   "cell_type": "markdown",
   "metadata": {},
   "source": [
    "### 1.4 Spec list\n",
    "\n",
    "Fill in the spec list table below.\n",
    "  * Value: (H)igh, (M)edium, (L)ow\n",
    "  * Effort: (H)igh, (M)edium, (L)ow\n",
    "  * Feature: Brief description of the feature\n",
    "\n",
    "\n",
    "| Value | Effort  | Feature    | \n",
    "|:------|:--------|:-----------|\n",
    "| H     | L       | Ability to read and tile twenty geotif files |\n",
    "| H     | M       | Remove blank (all zeros) geotif files |\n",
    "| L     | H       | GeoAI processing |\n",
    "\n",
    "(Please remove the examples above and replace with your own specifications!)"
   ]
  },
  {
   "cell_type": "markdown",
   "metadata": {
    "id": "y2tXirb-1GDU"
   },
   "source": [
    "___\n",
    "\n",
    "# 2. Minimal Viable Product"
   ]
  },
  {
   "cell_type": "markdown",
   "metadata": {
    "id": "BEMcvCAq1GDU"
   },
   "source": [
    "## 2.1. Setup & Installation\n",
    "\n",
    "In the code cell below, you will write all your import and load statements for the packages and data needed for your project."
   ]
  },
  {
   "cell_type": "code",
   "execution_count": null,
   "metadata": {
    "id": "ix8r8pHx1GDV"
   },
   "outputs": [],
   "source": [
    "# Import Modules and Packages you need to run your MVP in this code cell\n",
    "\n",
    "import numpy as np"
   ]
  },
  {
   "cell_type": "markdown",
   "metadata": {
    "id": "Ati4WcPQ1GDV"
   },
   "source": [
    "## 2.2. Functions\n",
    "This section defines all functions that will be used in your MVP and Project."
   ]
  },
  {
   "cell_type": "markdown",
   "metadata": {},
   "source": [
    "### Pre-processing functions"
   ]
  },
  {
   "cell_type": "code",
   "execution_count": null,
   "metadata": {},
   "outputs": [],
   "source": [
    "def please_rename_me():\n",
    "    pass\n",
    "\n",
    "def rename_me_too():\n",
    "    pass"
   ]
  },
  {
   "cell_type": "markdown",
   "metadata": {},
   "source": [
    "### Analysis functions\n"
   ]
  },
  {
   "cell_type": "code",
   "execution_count": null,
   "metadata": {},
   "outputs": [],
   "source": [
    "def another_function():\n",
    "    pass"
   ]
  },
  {
   "cell_type": "markdown",
   "metadata": {},
   "source": [
    "### Misc. functions"
   ]
  },
  {
   "cell_type": "code",
   "execution_count": null,
   "metadata": {},
   "outputs": [],
   "source": [
    "def yet_another_function_here():\n",
    "    pass"
   ]
  },
  {
   "cell_type": "markdown",
   "metadata": {
    "id": "pyX0qLUK1GDV"
   },
   "source": [
    "## 2.3. Execute your code. Let's go\n",
    "These code cells will actually make your code run. Up until now you have only imported modules and defined modules.\n",
    "This is where you start running code, passing variables, and creating maps, plots, and analytical results."
   ]
  },
  {
   "cell_type": "markdown",
   "metadata": {},
   "source": [
    "### Preparation and Pre-Processing Phase"
   ]
  },
  {
   "cell_type": "code",
   "execution_count": null,
   "metadata": {},
   "outputs": [],
   "source": [
    "# Preparation and pre-processing code here\n",
    "\n",
    "rename_me_too()"
   ]
  },
  {
   "cell_type": "markdown",
   "metadata": {},
   "source": [
    "### Analysis and Modeling Phase"
   ]
  },
  {
   "cell_type": "code",
   "execution_count": null,
   "metadata": {},
   "outputs": [],
   "source": [
    "another_function()"
   ]
  },
  {
   "cell_type": "markdown",
   "metadata": {},
   "source": [
    "### Visualization and Plotting Phase"
   ]
  },
  {
   "cell_type": "code",
   "execution_count": null,
   "metadata": {
    "id": "NknIW-SV1GDW"
   },
   "outputs": [],
   "source": [
    "yet_another_function_here()"
   ]
  },
  {
   "cell_type": "markdown",
   "metadata": {
    "id": "F-FThgLj1GDW"
   },
   "source": [
    "## 2.4. Rationale\n",
    "Why is this an MVP?\n"
   ]
  }
 ],
 "metadata": {
  "colab": {
   "provenance": []
  },
  "kernelspec": {
   "display_name": "Python 3 (ipykernel)",
   "language": "python",
   "name": "python3"
  },
  "language_info": {
   "codemirror_mode": {
    "name": "ipython",
    "version": 3
   },
   "file_extension": ".py",
   "mimetype": "text/x-python",
   "name": "python",
   "nbconvert_exporter": "python",
   "pygments_lexer": "ipython3",
   "version": "3.9.7"
  }
 },
 "nbformat": 4,
 "nbformat_minor": 4
}
